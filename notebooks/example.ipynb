{
 "cells": [
  {
   "cell_type": "code",
   "execution_count": 1,
   "id": "49fc11a9",
   "metadata": {},
   "outputs": [],
   "source": [
    "from collections import namedtuple"
   ]
  },
  {
   "cell_type": "code",
   "execution_count": 3,
   "id": "0412e621",
   "metadata": {},
   "outputs": [],
   "source": [
    "dataingestionconfig = namedtuple(\"dataingestionconfig\",[\"name\",\"url\"])"
   ]
  },
  {
   "cell_type": "code",
   "execution_count": 6,
   "id": "5f049f6b",
   "metadata": {},
   "outputs": [],
   "source": [
    "ingestion_config = dataingestionconfig(name=\"jijef\",url=\"joiejf\")"
   ]
  },
  {
   "cell_type": "code",
   "execution_count": 8,
   "id": "7d8ca3b3",
   "metadata": {},
   "outputs": [
    {
     "data": {
      "text/plain": [
       "'jijef'"
      ]
     },
     "execution_count": 8,
     "metadata": {},
     "output_type": "execute_result"
    }
   ],
   "source": [
    "ingestion_config.name"
   ]
  },
  {
   "cell_type": "code",
   "execution_count": null,
   "id": "d13d38f3",
   "metadata": {},
   "outputs": [],
   "source": []
  }
 ],
 "metadata": {
  "kernelspec": {
   "display_name": "Python 3",
   "language": "python",
   "name": "python3"
  },
  "language_info": {
   "codemirror_mode": {
    "name": "ipython",
    "version": 3
   },
   "file_extension": ".py",
   "mimetype": "text/x-python",
   "name": "python",
   "nbconvert_exporter": "python",
   "pygments_lexer": "ipython3",
   "version": "3.8.0"
  }
 },
 "nbformat": 4,
 "nbformat_minor": 5
}
